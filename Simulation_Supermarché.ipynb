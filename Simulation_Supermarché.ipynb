{
  "nbformat": 4,
  "nbformat_minor": 0,
  "metadata": {
    "colab": {
      "name": "Simulation_Supermarché.ipynb",
      "provenance": []
    },
    "kernelspec": {
      "name": "python3",
      "display_name": "Python 3"
    },
    "language_info": {
      "name": "python"
    }
  },
  "cells": [
    {
      "cell_type": "code",
      "execution_count": null,
      "metadata": {
        "id": "eHjiWmE_PTON"
      },
      "outputs": [],
      "source": [
        "import numpy as np\n",
        "from pandas import DataFrame\n",
        "import numpy as np\n",
        "import matplotlib.pyplot as plt\n",
        "import pandas as pd\n",
        "import seaborn as sns\n",
        "import statistics\n",
        "import math \n",
        "#plot\n",
        "plt.rcParams['figure.figsize'] = (12, 9)\n"
      ]
    },
    {
      "cell_type": "code",
      "source": [
        "def aleas(IX,IY,IZ):\n",
        "        IX[0] = 171 * ( IX[0] % 177 ) - 2 *  (IX[0] // 177 ) \n",
        "        IY[0] = 172 * ( IY[0] % 176 ) - 35 * ( IY[0] // 176 ) \n",
        "        IZ[0] = 170 * ( IZ[0] % 178 ) - 63 * ( IZ[0] //178 ) \n",
        "        if ( IX[0]<0 ):\n",
        "            IX[0] = IX[0] + 30269  \n",
        "        if ( IY[0]< 0 ) :\n",
        "               IY[0] = IY[0] + 30307 \n",
        "        if (IZ[0]< 0 ) :\n",
        "            IZ[0] = IZ[0] + 30323 \n",
        "        inter = ( ( IX[0] / 30269 ) + ( IY[0] / 30307 ) + ( IZ[0] / 30323 ) )\n",
        "        alea  = inter - int ( inter ) \n",
        "        return alea\n",
        "           "
      ],
      "metadata": {
        "id": "9IXOYxogPZl6"
      },
      "execution_count": null,
      "outputs": []
    },
    {
      "cell_type": "code",
      "source": [
        "def F1(x):\n",
        "  if ( x < 0.02 ):\n",
        "      return 6\n",
        "  elif (x > 0.02 and x <= 0.03):\n",
        "       return 5\n",
        "  elif (x > 0.03 and x <= 0.05):\n",
        "       return 4\n",
        "  elif (x > 0.05 and x <= 0.1):\n",
        "       return 3\n",
        "  elif (x> 0.1 and x <= 0.5):\n",
        "       return 2\n",
        "\n",
        "  else : \n",
        "    return 0"
      ],
      "metadata": {
        "id": "7bkgvxUCPc5N"
      },
      "execution_count": null,
      "outputs": []
    },
    {
      "cell_type": "code",
      "source": [
        "def F2(x):\n",
        "  if ( x < 0.1 ):\n",
        "      return 4\n",
        "  elif (x > 0.2 and x <= 0.1):\n",
        "       return 6 \n",
        "  elif (x > 0.4 and x <= 0.2):\n",
        "       return 8\n",
        "  elif (x > 0.4):\n",
        "       return 10  \n",
        "  else:            \n",
        "    return 0"
      ],
      "metadata": {
        "id": "aiOeh1QIPfKf"
      },
      "execution_count": null,
      "outputs": []
    },
    {
      "cell_type": "code",
      "source": [
        "def F3(x):\n",
        "   if ( x < 0.15 ):\n",
        "      return 4\n",
        "   elif (x > 0.15 and x <= 0.2):\n",
        "      return 3\n",
        "   elif (x > 0.2 and x <= 0.25):\n",
        "       return 2\n",
        "   elif (x > 0.25 and x <= 0.4):\n",
        "       return 2 \n",
        "   elif (x > 0.4):\n",
        "       return 2\n",
        "   else:           \n",
        "    return 0\n",
        "  "
      ],
      "metadata": {
        "id": "4ty3F5y3PjId"
      },
      "execution_count": null,
      "outputs": []
    },
    {
      "cell_type": "code",
      "source": [
        "def Trier_cal(calendrier):\n",
        "    l = len(calendrier)\n",
        "    for i in range(0, l):\n",
        "        for j in range(0, l-i-1):\n",
        "            if (calendrier[j][2] > calendrier[j + 1][2]):\n",
        "                tempo = calendrier[j]\n",
        "                calendrier[j]= calendrier[j + 1]\n",
        "                calendrier[j + 1]= tempo\n",
        "    return calendrier"
      ],
      "metadata": {
        "id": "PSopwLjwPlB6"
      },
      "execution_count": null,
      "outputs": []
    },
    {
      "cell_type": "code",
      "source": [
        "def planif_eve(evt=[]):\n",
        "    cal_tri.append(evt)\n",
        "    return cal_tri\n",
        "    \n",
        "def select_eve(cal_tri):\n",
        "    evt_p=cal_tri[0]\n",
        "    cal_tri.pop(0)\n",
        "    return evt_p"
      ],
      "metadata": {
        "id": "Qd7LAbXVPm0e"
      },
      "execution_count": null,
      "outputs": []
    },
    {
      "cell_type": "code",
      "source": [
        "def intervalle_confiance(NCP):\n",
        "  moy_NCP=np.array(NCP)\n",
        "  n=len(moy_NCP)\n",
        "  m=np.mean(moy_NCP)\n",
        "  s=statistics.stdev(moy_NCP,m)\n",
        "  IC=[m-1.96*(s//math.sqrt(n)),m+1.96*(s//math.sqrt(n))]\n",
        "  return IC"
      ],
      "metadata": {
        "id": "1z3ISpL8Pogl"
      },
      "execution_count": null,
      "outputs": []
    },
    {
      "cell_type": "markdown",
      "source": [
        "# **Scénario 1(simulation avec deux caisses)**"
      ],
      "metadata": {
        "id": "mqbbbAXKPrFj"
      }
    },
    {
      "cell_type": "code",
      "source": [
        "    # Initialiser le calendrier par la 1ère arrivée du 1er client \n",
        "    IX=[0]\n",
        "    IY=[0]\n",
        "    IZ=[0]\n",
        "    IX[0]= int(input(\"Entrez la valeur du premier germe IX: \"))\n",
        "    while (IX[0] <1 or IX[0] >30000):\n",
        "            IX[0] = int(input(\"la valeur que vous avez saisie ne convient pas\"))\n",
        "            \n",
        "    IY[0]= int(input(\"Entrez la valeur du deuxieme germe IY: \"))\n",
        "    while (IY[0] <1 or IY[0] >30000):\n",
        "            IY[0] = int(input(\"la valeur que vous avez saisie ne convient pas\"))\n",
        "            \n",
        "    IZ[0]= int(input(\"Entrez la valeur du dernier germe IZ: \"))\n",
        "    while (IZ[0] <1 or IZ[0] >30000):\n",
        "            IZ[0] = int(input(\"la valeur que vous avez saisie ne convient pas\"))"
      ],
      "metadata": {
        "id": "vQfLasIRPrsA"
      },
      "execution_count": null,
      "outputs": []
    },
    {
      "cell_type": "code",
      "source": [
        "resultat=[]\n",
        "resultat_sanspi=[]\n",
        "for k in range(40):   \n",
        "    H = 0         # Horloge de simulation \n",
        "    i = 1         # numéro client arrivé à chaque fois \n",
        "    LQ = 0        # Longueur Queue \n",
        "    NCP = 0       # Nombre Clients Perdus\n",
        "    NCE = 0       # Nombre Clients Entrés \n",
        "    C1 = 0        # état caisse 1 libre \n",
        "    C2 = 0        # état caisse 2 libre \n",
        "    t1 = 0\n",
        "    t2 = 0 \n",
        "    s1 = 0\n",
        "    s2 = 0\n",
        "    DEQ = 0\n",
        "    DSQ = 0\n",
        "    tj = 0\n",
        "    Q=[]\n",
        "    pi=0\n",
        "    tmp1=0\n",
        "    tmp2=0\n",
        "    Tauxratio1=0  # le ratio de temps de la caisse 1\n",
        "    Tauxratio2=0  # le ratio de temps de la caisse 2\n",
        "    MTA=0        # temps d'attente moyen\n",
        "    MTS=0        # moyen du temps de séjour\n",
        "    Qj=[]\n",
        "    p1=0     \n",
        "    # Initialiser le calendrier par la 1ère arrivée du 1er client \n",
        "    evt=[]\n",
        "    a=aleas(IX,IY,IZ)\n",
        "    evt1=[1,'A',F1(a)]\n",
        "    cal_tri=[evt1]\n",
        "    file=[]\n",
        "    while (len(cal_tri)!=0):\n",
        "        cal_tri=Trier_cal(cal_tri)\n",
        "        evt_sel=select_eve(cal_tri)\n",
        "        H=evt_sel[2]\n",
        "        if (evt_sel[1] == 'A'):\n",
        "              if (LQ <= 1):\n",
        "                NCE = NCE+1\n",
        "                planif_eve([evt_sel[0],'FM',H+F2(aleas(IX,IY,IZ))])\n",
        "              else:\n",
        "                NCP = NCP+1\n",
        "              i=i+1\n",
        "              DA=H+F1(aleas(IX,IY,IZ))\n",
        "              if (DA<=720):\n",
        "                planif_eve([i,'A',DA])\n",
        "        \n",
        "        if (evt_sel[1] == 'FM'):\n",
        "\n",
        "              if (C1==0 or C2==0):\n",
        "                if (C1==0):\n",
        "                  C1=evt_sel[0]\n",
        "                  t1=t1+(H-s1)\n",
        "                  \n",
        "                else:\n",
        "                  C2=evt_sel[0] \n",
        "                  t2=t2+(H-s2)\n",
        "                tmp1=H+F3(aleas(IX,IY,IZ))\n",
        "                planif_eve([evt_sel[0],'FP',tmp1])\n",
        "                DEQ=DEQ+tmp1\n",
        "              else :      \n",
        "                LQ=LQ+1\n",
        "                s1=H \n",
        "                s2=H\n",
        "                file.append(evt_sel[0])\n",
        "      \n",
        "\n",
        "\n",
        "        if (evt_sel[1] == 'FP'):\n",
        "\n",
        "            if (LQ==0):\n",
        "              if (C1==evt_sel[0]):\n",
        "                  C1=0\n",
        "                  \n",
        "              else:\n",
        "                C2=0\n",
        "            else:\n",
        "              j=file[0]\n",
        "              file.pop(0)\n",
        "              LQ=LQ-1\n",
        "              tj=tj+(H-s1)\n",
        "              Q.append(tj)\n",
        "              if (C1==evt_sel[0]):\n",
        "                C1=j\n",
        "              else:\n",
        "                C2=j\n",
        "              tmp2=H+F3(aleas(IX,IY,IZ))\n",
        "              planif_eve([j,'FP',tmp2])\n",
        "              DSQ=DSQ+tmp2                                   \n",
        "    DFS=H\n",
        "    Qj=[element * (1/DFS) for element in Q]\n",
        "    pi=sum(Qj)\n",
        "    p1=Qj[0]          # au plus un client\n",
        "    Tauxratio1=t1/DFS\n",
        "    Tauxratio2=t2/DFS\n",
        "    MTA=(DSQ-DEQ)/NCE\n",
        "    MTS=(H-DA)/NCE\n",
        "    resultat.extend([[NCP, NCE, DFS ,Tauxratio1 ,Tauxratio2 ,MTA ,MTS,p1 ,pi]])\n",
        "    resultat_sanspi.extend([[NCP, NCE, DFS ,Tauxratio1 ,Tauxratio2 ,MTA ,MTS,p1]])\n",
        "    IX[0]=IX[0]+10+k*10\n",
        "    IY[0]=IY[0]+30+k*30\n",
        "    IZ[0]=IZ[0]+20+k*20\n"
      ],
      "metadata": {
        "id": "FW3MLsMGPuPU"
      },
      "execution_count": null,
      "outputs": []
    },
    {
      "cell_type": "code",
      "source": [
        "df1 = pd.DataFrame(resultat, columns =['NCP', 'NCE', 'DFS','Tauxratio1','Tauxratio2','MTA','MTS','p1','pi'],index=['sim1','sim2','sim3','sim4','sim5','sim6','sim7','sim8','sim9','sim10','sim11','sim12','sim13','sim14','sim15','sim16','sim17','sim18','sim19','sim20','sim21','sim22','sim23','sim24','sim25','sim26','sim27','sim28','sim29','sim30','sim31','sim32','sim33','sim34','sim35','sim36','sim37','sim38','sim39','sim40'])\n",
        "df1\n"
      ],
      "metadata": {
        "id": "Sqc_9JffPx8p"
      },
      "execution_count": null,
      "outputs": []
    },
    {
      "cell_type": "markdown",
      "source": [
        "# **Scénario 2(simulation avec 3 caisses)**"
      ],
      "metadata": {
        "id": "fIC7ukL1P0Dl"
      }
    },
    {
      "cell_type": "code",
      "source": [
        "    # Initialiser le calendrier par la 1ère arrivée du 1er client \n",
        "    IX=[0]\n",
        "    IY=[0]\n",
        "    IZ=[0]\n",
        "    IX[0]= int(input(\"Entrez la valeur du premier germe IX: \"))\n",
        "    while (IX[0] <1 or IX[0] >30000):\n",
        "            IX[0] = int(input(\"la valeur que vous avez saisie ne convient pas\"))\n",
        "            \n",
        "    IY[0]= int(input(\"Entrez la valeur du deuxieme germe IY: \"))\n",
        "    while (IY[0] <1 or IY[0] >30000):\n",
        "            IY[0] = int(input(\"la valeur que vous avez saisie ne convient pas\"))\n",
        "            \n",
        "    IZ[0]= int(input(\"Entrez la valeur du dernier germe IZ: \"))\n",
        "    while (IZ[0] <1 or IZ[0] >30000):\n",
        "            IZ[0] = int(input(\"la valeur que vous avez saisie ne convient pas\"))"
      ],
      "metadata": {
        "id": "qjqKHO32P0q6"
      },
      "execution_count": null,
      "outputs": []
    },
    {
      "cell_type": "code",
      "source": [
        "data=[]\n",
        "data_sanspi=[]\n",
        "for k in range(40):   \n",
        "    H = 0        #(* Horloge de simulation *)\n",
        "    i = 1        #(* numéro client arrivé à chaque fois *)\n",
        "    LQ = 0        #(* Longueur Queue *)\n",
        "    NCP = 0      #(* Nombre Clients Perdus *)\n",
        "    NCE = 0       #(* Nombre Clients Entrés *)\n",
        "    C1 = 0        #(* état caisse 1 libre *)\n",
        "    C2 = 0        #(* état caisse 2 libre *)\n",
        "    C3 = 0\n",
        "    t1 = 0\n",
        "    t2 = 0 \n",
        "    t3 = 0\n",
        "    s1 = 0\n",
        "    s2 = 0\n",
        "    s3 = 0\n",
        "    tmp1=0\n",
        "    tmp2=0\n",
        "    DEQ = 0\n",
        "    DSQ = 0\n",
        "    MTS=0\n",
        "    MTA=0\n",
        "    Tauxratio1=0\n",
        "    Tauxratio2=0\n",
        "    Tauxratio3=0\n",
        "    Qj=[]\n",
        "    p1=0\n",
        "    pi=0\n",
        "    # Initialiser le calendrier par la 1ère arrivée du 1er client \n",
        "    evt=[]\n",
        "    a=aleas(IX,IY,IZ)\n",
        "    evt1=[1,'A',F1(a)]\n",
        "    cal_tri=[evt1]\n",
        "    file=[]\n",
        "    while (len(cal_tri)!=0):\n",
        "        cal_tri=Trier_cal(cal_tri)\n",
        "        evt_sel=select_eve(cal_tri)\n",
        "        H=evt_sel[2]\n",
        "        if (evt_sel[1] == 'A'):\n",
        "              if (LQ <= 1):\n",
        "                NCE = NCE+1\n",
        "                planif_eve([evt_sel[0],'FM',H+F2(aleas(IX,IY,IZ))])\n",
        "              else:\n",
        "                NCP = NCP+1\n",
        "              i=i+1\n",
        "              DA=H+F1(aleas(IX,IY,IZ))\n",
        "              if (DA<=720):\n",
        "                planif_eve([i,'A',DA])\n",
        "        \n",
        "        if (evt_sel[1] == 'FM'):\n",
        "\n",
        "              if (C1==0 or C2==0 or C3==0):\n",
        "                if (C1==0):\n",
        "                  C1=evt_sel[0]\n",
        "                  t1=t1+(H-s1)\n",
        "                  \n",
        "                if (C2==0):\n",
        "                  C2=evt_sel[0] \n",
        "                  t2=t2+(H-s2)\n",
        "                else:\n",
        "                  C3=evt_sel[0] \n",
        "                  t3=t3+(H-s3)\n",
        "                tmp1=H+F3(aleas(IX,IY,IZ))\n",
        "                planif_eve([evt_sel[0],'FP',tmp1])\n",
        "                DEQ=DEQ+tmp1\n",
        "              else :      \n",
        "                LQ=LQ+1\n",
        "                s1=H \n",
        "                s2=H\n",
        "                s3=H\n",
        "                file.append(evt_sel[0])\n",
        "      \n",
        "        if (evt_sel[1] == 'FP'):\n",
        "\n",
        "            if (LQ==0):\n",
        "              if (C1==evt_sel[0]):\n",
        "                  C1=0\n",
        "                  \n",
        "              if (C2==evt_sel[0]):\n",
        "                  C2=0\n",
        "              else: \n",
        "                  C3=0\n",
        "            else:\n",
        "              j=file[0]\n",
        "              file.pop(0)\n",
        "              LQ=LQ-1\n",
        "              tj=tj+(H-s1)\n",
        "              Q.append(tj)\n",
        "              if (C1==evt_sel[0]):\n",
        "                C1=j\n",
        "              if(C2==evt_sel[0]):\n",
        "                C2=j\n",
        "              else:\n",
        "                C3=j\n",
        "              tmp2=H+F3(aleas(IX,IY,IZ))\n",
        "              planif_eve([j,'FP',tmp2])\n",
        "              DSQ=DSQ+tmp2\n",
        "              \n",
        "    DFS=H\n",
        "    Qj=[element * (1/DFS) for element in Q]\n",
        "    pi=sum(Qj)\n",
        "    p1=Qj[0]\n",
        "    Tauxratio1=t1/DFS\n",
        "    Tauxratio2=t2/DFS\n",
        "    Tauxratio3=t3/DFS\n",
        "    MTA=(DSQ-DEQ)/NCE\n",
        "    MTS=(H-DA)/NCE    \n",
        "    data.extend([[NCP, NCE, DFS,Tauxratio1,Tauxratio2,Tauxratio3,MTA,MTS,p1 ,pi]])\n",
        "    data_sanspi.extend([[NCP, NCE, DFS,Tauxratio1,Tauxratio2,Tauxratio3,MTA,MTS,p1]])\n",
        "    IX[0]=IX[0]+10+k*10\n",
        "    IY[0]=IY[0]+30+k*30\n",
        "    IZ[0]=IZ[0]+20+k*20\n"
      ],
      "metadata": {
        "id": "Gb_CZxlsP3Rc"
      },
      "execution_count": null,
      "outputs": []
    },
    {
      "cell_type": "code",
      "source": [
        "df2 = pd.DataFrame(data, columns =['NCP', 'NCE', 'DFS','Tauxratio1','Tauxratio2','Tauxratio3','MTA','MTS','p1' ,'pi'],index=['sim1','sim2','sim3','sim4','sim5','sim6','sim7','sim8','sim9','sim10','sim11','sim12','sim13','sim14','sim15','sim16','sim17','sim18','sim19','sim20','sim21','sim22','sim23','sim24','sim25','sim26','sim27','sim28','sim29','sim30','sim31','sim32','sim33','sim34','sim35','sim36','sim37','sim38','sim39','sim40'])\n",
        "df2"
      ],
      "metadata": {
        "id": "FJVK1-76P5d-"
      },
      "execution_count": null,
      "outputs": []
    },
    {
      "cell_type": "code",
      "source": [
        "df2_sanspi = pd.DataFrame(data_sanspi, columns =['NCP', 'NCE', 'DFS','Tauxratio1','Tauxratio2','Tauxratio3','MTA','MTS','p1'],index=['sim1','sim2','sim3','sim4','sim5','sim6','sim7','sim8','sim9','sim10','sim11','sim12','sim13','sim14','sim15','sim16','sim17','sim18','sim19','sim20','sim21','sim22','sim23','sim24','sim25','sim26','sim27','sim28','sim29','sim30','sim31','sim32','sim33','sim34','sim35','sim36','sim37','sim38','sim39','sim40'])\n",
        "df1_sanspi = pd.DataFrame(resultat_sanspi, columns =['NCP', 'NCE', 'DFS','Tauxratio1','Tauxratio2','MTA','MTS','p1'],index=['sim1','sim2','sim3','sim4','sim5','sim6','sim7','sim8','sim9','sim10','sim11','sim12','sim13','sim14','sim15','sim16','sim17','sim18','sim19','sim20','sim21','sim22','sim23','sim24','sim25','sim26','sim27','sim28','sim29','sim30','sim31','sim32','sim33','sim34','sim35','sim36','sim37','sim38','sim39','sim40'])\n"
      ],
      "metadata": {
        "id": "irOsHBqIP6Dx"
      },
      "execution_count": null,
      "outputs": []
    },
    {
      "cell_type": "markdown",
      "source": [
        "###description du scénario 1"
      ],
      "metadata": {
        "id": "S4TLNhG-QBi8"
      }
    },
    {
      "cell_type": "code",
      "source": [
        "df1.describe()"
      ],
      "metadata": {
        "id": "kw9AGSDPP_vB"
      },
      "execution_count": null,
      "outputs": []
    },
    {
      "cell_type": "markdown",
      "source": [
        "##description du scénario 2"
      ],
      "metadata": {
        "id": "xQX44EFkQMOG"
      }
    },
    {
      "cell_type": "code",
      "source": [
        "df2.describe()"
      ],
      "metadata": {
        "id": "gMoFu8W1QPqD"
      },
      "execution_count": null,
      "outputs": []
    },
    {
      "cell_type": "code",
      "source": [
        "IC1 = intervalle_confiance(df1['NCP'])\n",
        "IC1"
      ],
      "metadata": {
        "id": "tEaEl8paQRrq"
      },
      "execution_count": null,
      "outputs": []
    },
    {
      "cell_type": "code",
      "source": [
        "IC2 = intervalle_confiance(df2['NCP'])\n",
        "IC2"
      ],
      "metadata": {
        "id": "SIs17kKlQTU0"
      },
      "execution_count": null,
      "outputs": []
    },
    {
      "cell_type": "markdown",
      "source": [
        "Représentation graphique"
      ],
      "metadata": {
        "id": "kOQXrcH6QW43"
      }
    },
    {
      "cell_type": "markdown",
      "source": [
        "##Scénario 1"
      ],
      "metadata": {
        "id": "4CL7p7PdQbUI"
      }
    },
    {
      "cell_type": "code",
      "source": [
        "df1_sanspi.plot.bar(rot=0,figsize=(60,14))"
      ],
      "metadata": {
        "id": "qloJLvaCQZsC"
      },
      "execution_count": null,
      "outputs": []
    },
    {
      "cell_type": "code",
      "source": [
        "df1_sanspi.plot.bar(stacked=True,figsize=(24, 11))"
      ],
      "metadata": {
        "id": "SZeNsdkWQf1A"
      },
      "execution_count": null,
      "outputs": []
    },
    {
      "cell_type": "code",
      "source": [
        "df1['NCP'].plot.bar(rot=0)"
      ],
      "metadata": {
        "id": "6YGfhbyMQhca"
      },
      "execution_count": null,
      "outputs": []
    },
    {
      "cell_type": "code",
      "source": [
        "sns.displot(df1['NCP'])\n",
        "plt.title(\"Distribution de NCP\", fontsize=20)"
      ],
      "metadata": {
        "id": "apMIm-D4Qkt9"
      },
      "execution_count": null,
      "outputs": []
    },
    {
      "cell_type": "markdown",
      "source": [
        "##Scénario 1"
      ],
      "metadata": {
        "id": "7vEbJ3TXQnfl"
      }
    },
    {
      "cell_type": "code",
      "source": [
        "df2_sanspi.plot.bar(rot=0,figsize=(44,24))"
      ],
      "metadata": {
        "id": "n1oDpXb1QoAF"
      },
      "execution_count": null,
      "outputs": []
    },
    {
      "cell_type": "code",
      "source": [
        "df2_sanspi.plot.bar(stacked=True,figsize=(24, 11))"
      ],
      "metadata": {
        "id": "A0LP6km2Qp-o"
      },
      "execution_count": null,
      "outputs": []
    },
    {
      "cell_type": "code",
      "source": [
        "df2['NCP'].plot.bar(rot=0)\n"
      ],
      "metadata": {
        "id": "fhpCz7CZQri5"
      },
      "execution_count": null,
      "outputs": []
    },
    {
      "cell_type": "code",
      "source": [
        "plt.figure()\n",
        "plt.plot(df2['NCP'])\n",
        "plt.plot(df2['NCE'])\n"
      ],
      "metadata": {
        "id": "m6eW-BYtQuLx"
      },
      "execution_count": null,
      "outputs": []
    },
    {
      "cell_type": "code",
      "source": [
        "sns.displot(df2['NCP'])\n",
        "plt.title(\"Distribution de NCP\", fontsize=20)"
      ],
      "metadata": {
        "id": "DWJgXji3Qv3B"
      },
      "execution_count": null,
      "outputs": []
    }
  ]
}